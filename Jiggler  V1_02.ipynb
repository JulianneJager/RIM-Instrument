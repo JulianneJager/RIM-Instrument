{
 "cells": [
  {
   "cell_type": "code",
   "execution_count": 1,
   "metadata": {},
   "outputs": [],
   "source": [
    "import numpy as np # Mathmatical library\n",
    "import pandas as pd # data management library  \n",
    "\n",
    "import matplotlib.pyplot as plt\n",
    "import serial\n",
    "import time\n",
    "import os\n",
    "from datetime import datetime\n",
    "\n",
    "from Jiggler_funcs_V1_02 import *"
   ]
  },
  {
   "attachments": {},
   "cell_type": "markdown",
   "metadata": {},
   "source": [
    "# Instructions\n",
    "\n",
    "Set the interval using FREQUENCY_RANGE\n",
    "Set the step size using FREQ_STEP_SIZE\n",
    "Set the com port using COM_PORT\n",
    "\n",
    ">TIME_BETWEEN_SAMPLES \n",
    "\n",
    "will determine how long the Jiggler is off between measurements\n",
    "RUNTIME determines how long the Jiggler will run for when using the Loop command.\n",
    "\n",
    ">IMPORT_FILE_PATH \n",
    "\n",
    "is the filepath to any data files you want imported\n",
    "\n",
    ">SAFE_MODE \n",
    "\n",
    "is the only advanced option you will probably want to use. It turns off all fits if they are failing so the data collection can continue uninterrupted. If you are getting crashes due to curve fits failing, then set this to True. The data can be easily re-fit afterward using the import tool once an appropriate fit is coded."
   ]
  },
  {
   "cell_type": "code",
   "execution_count": 2,
   "metadata": {},
   "outputs": [],
   "source": [
    "\"\"\"Options\"\"\"\n",
    "FREQUENCY_RANGE = [110,118] # [107,114]\n",
    "FREQ_STEP_SIZE = 0.2\n",
    "COM_PORT = \"COM4\" \n",
    "\n",
    "# Duration in seconds of the measurement period\n",
    "TIME_BETWEEN_SAMPLES = 60 # in seconds. Minimum Value of 5\n",
    "RUNTIME = 3600*1000\n",
    "\n",
    "# Filepath for files to import\n",
    "IMPORT_FILE_PATH = r\"C:\\Jiggler Data\\Current data\\Cycling Data\\Q_Test_JIG1 Jan 18th 2023\"\n",
    "\n",
    "# Export Resonance\n",
    "EXPORT_RESONANCE = True"
   ]
  },
  {
   "cell_type": "code",
   "execution_count": 3,
   "metadata": {
    "scrolled": false
   },
   "outputs": [],
   "source": [
    "\"\"\"Advanced Options\"\"\"\n",
    "SAFE_MODE = True # Switch this to true\n",
    "SAMPLE_SIZE = 1500 # Must match sample size in Arduino.ino \n",
    "TIMEOUT = 4\n",
    "BAUDRATE = 9600\n",
    "OUTPUT_FOLDER = r\"C:\\Jiggler Data\\Current data\\Cycling Data\\Jig 1 Alignment march 13 2023\"\n",
    "\n",
    "\n"
   ]
  },
  {
   "cell_type": "code",
   "execution_count": 4,
   "metadata": {},
   "outputs": [
    {
     "data": {
      "text/plain": [
       "'Space for Additional options'"
      ]
     },
     "execution_count": 4,
     "metadata": {},
     "output_type": "execute_result"
    }
   ],
   "source": [
    "# Jiggler Initialization\n",
    "Jig = Jiggler(com_port = COM_PORT, f_interval = FREQUENCY_RANGE, \n",
    "                step_size = FREQ_STEP_SIZE)\n",
    "\n",
    "# Resets Arduino to standard state\n",
    "time.sleep(1)\n",
    "Jig.stop_instrument()\n",
    "time.sleep(2)\n",
    "\n",
    "if SAFE_MODE == True:\n",
    "    Jig.options_dict[\"parabolic_fit\"] =  False\n",
    "    Jig.options_dict[\"lorentz_fit\"] = False\n",
    "\n",
    "# Setting output folder as above\n",
    "Jig.options_dict[\"output_directory\"] = OUTPUT_FOLDER \n",
    "\n",
    "\"\"\"Space for Additional options\"\"\"\n",
    "#Jig.options_dict[\"_lims\"] = [0, 1.0]\n",
    "# Jig.options_dict[] =\n",
    "# Jig.options_dict[] =\n",
    "# Jig.options_dict[] ="
   ]
  },
  {
   "cell_type": "markdown",
   "metadata": {},
   "source": [
    "# Import Cell\n",
    "The cell below will run an import and then plot all imported data files using the current settings. It will also generate a resonant frequency data file for use with the neware and grapher with the data from all files in the import folder.\n",
    "\n",
    "Importing the data is primarily used to prepare data for presentation or for graphing with the graphing tool."
   ]
  },
  {
   "cell_type": "code",
   "execution_count": 5,
   "metadata": {},
   "outputs": [],
   "source": [
    "# \"\"\"Import Command\"\"\"\n",
    "# imported_data, imported_times = Jig.data_importer(IMPORT_FILE_PATH)\n",
    "\n",
    "# # Import Plotter\n",
    "# Jig.import_plotter()\n"
   ]
  },
  {
   "cell_type": "markdown",
   "metadata": {},
   "source": [
    "# Sweep Cell\n",
    "The cell below will perform a single sweep with the current settings and plot a single amplitude vs frequency graph."
   ]
  },
  {
   "cell_type": "code",
   "execution_count": 6,
   "metadata": {},
   "outputs": [],
   "source": [
    "# # \"\"\"Sweep Command\"\"\"\n",
    "# time_list = Jig.Jiggler_sweep()\n",
    "\n",
    "# # # Plotting Command\n",
    "# Jig.quick_plot()"
   ]
  },
  {
   "cell_type": "markdown",
   "metadata": {},
   "source": [
    "# Loop Cell\n",
    "The cell below will run for RUNTIME seconds, and will perform a sweep every TIME_BETWEEN_SAMPLES seconds. This is the primary function for recording data"
   ]
  },
  {
   "cell_type": "code",
   "execution_count": 7,
   "metadata": {},
   "outputs": [
    {
     "ename": "KeyboardInterrupt",
     "evalue": "",
     "output_type": "error",
     "traceback": [
      "\u001b[1;31m---------------------------------------------------------------------------\u001b[0m",
      "\u001b[1;31mKeyboardInterrupt\u001b[0m                         Traceback (most recent call last)",
      "\u001b[1;32mc:\\Users\\Christian Fitzner\\OneDrive - Dalhousie University\\Desktop\\chris.fitzner local\\main\\Christian's Dahn lab scripts\\Nics Project\\Jiggler 1 V1_02.ipynb Cell 11\u001b[0m in \u001b[0;36m<cell line: 2>\u001b[1;34m()\u001b[0m\n\u001b[0;32m      <a href='vscode-notebook-cell:/c%3A/Users/Christian%20Fitzner/OneDrive%20-%20Dalhousie%20University/Desktop/chris.fitzner%20local/main/Christian%27s%20Dahn%20lab%20scripts/Nics%20Project/Jiggler%201%20V1_02.ipynb#X13sZmlsZQ%3D%3D?line=0'>1</a>\u001b[0m \u001b[39m# # \"\"\"Loop Command\"\"\"\u001b[39;00m\n\u001b[1;32m----> <a href='vscode-notebook-cell:/c%3A/Users/Christian%20Fitzner/OneDrive%20-%20Dalhousie%20University/Desktop/chris.fitzner%20local/main/Christian%27s%20Dahn%20lab%20scripts/Nics%20Project/Jiggler%201%20V1_02.ipynb#X13sZmlsZQ%3D%3D?line=1'>2</a>\u001b[0m res_freq_list \u001b[39m=\u001b[39m Jig\u001b[39m.\u001b[39;49mJiggler_loop(RUNTIME, TIME_BETWEEN_SAMPLES)\n",
      "File \u001b[1;32mc:\\Users\\Christian Fitzner\\OneDrive - Dalhousie University\\Desktop\\chris.fitzner local\\main\\Christian's Dahn lab scripts\\Nics Project\\Jiggler_funcs_V1_02.py:689\u001b[0m, in \u001b[0;36mJiggler.Jiggler_loop\u001b[1;34m(self, duration, time_between_samples)\u001b[0m\n\u001b[0;32m    686\u001b[0m \u001b[39mself\u001b[39m\u001b[39m.\u001b[39mloop_count \u001b[39m+\u001b[39m\u001b[39m=\u001b[39m \u001b[39m1\u001b[39m\n\u001b[0;32m    688\u001b[0m \u001b[39m# Sweeping\u001b[39;00m\n\u001b[1;32m--> 689\u001b[0m time_list \u001b[39m=\u001b[39m \u001b[39mself\u001b[39;49m\u001b[39m.\u001b[39;49mJiggler_sweep()\n\u001b[0;32m    691\u001b[0m \u001b[39m# Saving Midpoint times\u001b[39;00m\n\u001b[0;32m    692\u001b[0m \u001b[39mself\u001b[39m\u001b[39m.\u001b[39mmidsample_times\u001b[39m.\u001b[39mappend(\u001b[39mself\u001b[39m\u001b[39m.\u001b[39mtime_list[\u001b[39m-\u001b[39m\u001b[39m1\u001b[39m][\u001b[39m1\u001b[39m])\n",
      "File \u001b[1;32mc:\\Users\\Christian Fitzner\\OneDrive - Dalhousie University\\Desktop\\chris.fitzner local\\main\\Christian's Dahn lab scripts\\Nics Project\\Jiggler_funcs_V1_02.py:616\u001b[0m, in \u001b[0;36mJiggler.Jiggler_sweep\u001b[1;34m(self)\u001b[0m\n\u001b[0;32m    613\u001b[0m start_time \u001b[39m=\u001b[39m datetime\u001b[39m.\u001b[39mtoday()\n\u001b[0;32m    615\u001b[0m \u001b[39m\"\"\"Perform Initial linear sweep of the frequency range\"\"\"\u001b[39;00m\n\u001b[1;32m--> 616\u001b[0m sweep_data \u001b[39m=\u001b[39m \u001b[39mself\u001b[39;49m\u001b[39m.\u001b[39;49mlinear_sweep()\n\u001b[0;32m    618\u001b[0m \u001b[39m# Storing end time of sweep\u001b[39;00m\n\u001b[0;32m    619\u001b[0m end_time \u001b[39m=\u001b[39m datetime\u001b[39m.\u001b[39mtoday()\n",
      "File \u001b[1;32mc:\\Users\\Christian Fitzner\\OneDrive - Dalhousie University\\Desktop\\chris.fitzner local\\main\\Christian's Dahn lab scripts\\Nics Project\\Jiggler_funcs_V1_02.py:387\u001b[0m, in \u001b[0;36mJiggler.linear_sweep\u001b[1;34m(self)\u001b[0m\n\u001b[0;32m    385\u001b[0m \u001b[39mfor\u001b[39;00m freq_byte \u001b[39min\u001b[39;00m \u001b[39mself\u001b[39m\u001b[39m.\u001b[39mfrequency_byte_list:\n\u001b[0;32m    386\u001b[0m     \u001b[39mself\u001b[39m\u001b[39m.\u001b[39mwrite_data(freq_byte)\n\u001b[1;32m--> 387\u001b[0m     data_list \u001b[39m=\u001b[39m \u001b[39mself\u001b[39;49m\u001b[39m.\u001b[39;49mread_data()\n\u001b[0;32m    389\u001b[0m     \u001b[39m# When data_list == none then there was a float conversion error,\u001b[39;00m\n\u001b[0;32m    390\u001b[0m     \u001b[39m# Currently the code skips to the next frequency and logs an error.\u001b[39;00m\n\u001b[0;32m    391\u001b[0m     \u001b[39mif\u001b[39;00m data_list \u001b[39m==\u001b[39m \u001b[39mNone\u001b[39;00m:\n",
      "File \u001b[1;32mc:\\Users\\Christian Fitzner\\OneDrive - Dalhousie University\\Desktop\\chris.fitzner local\\main\\Christian's Dahn lab scripts\\Nics Project\\Jiggler_funcs_V1_02.py:209\u001b[0m, in \u001b[0;36mJiggler.read_data\u001b[1;34m(self)\u001b[0m\n\u001b[0;32m    207\u001b[0m data_list \u001b[39m=\u001b[39m []\n\u001b[0;32m    208\u001b[0m \u001b[39mfor\u001b[39;00m i \u001b[39min\u001b[39;00m \u001b[39mrange\u001b[39m(\u001b[39mself\u001b[39m\u001b[39m.\u001b[39msample_size):\n\u001b[1;32m--> 209\u001b[0m     data \u001b[39m=\u001b[39m \u001b[39mself\u001b[39;49m\u001b[39m.\u001b[39;49mserial\u001b[39m.\u001b[39;49mread_until() \u001b[39m# EXPERIMENTAL CHECK ON THIS\u001b[39;00m\n\u001b[0;32m    210\u001b[0m     \u001b[39m# data = self.serial.readline()\u001b[39;00m\n\u001b[0;32m    211\u001b[0m     \u001b[39m# print(data)\u001b[39;00m\n\u001b[0;32m    212\u001b[0m     data_decoded \u001b[39m=\u001b[39m data\u001b[39m.\u001b[39mdecode(\u001b[39m\"\u001b[39m\u001b[39mascii\u001b[39m\u001b[39m\"\u001b[39m)\n",
      "File \u001b[1;32mc:\\ProgramData\\Anaconda3\\lib\\site-packages\\serial\\serialutil.py:663\u001b[0m, in \u001b[0;36mSerialBase.read_until\u001b[1;34m(self, expected, size)\u001b[0m\n\u001b[0;32m    661\u001b[0m timeout \u001b[39m=\u001b[39m Timeout(\u001b[39mself\u001b[39m\u001b[39m.\u001b[39m_timeout)\n\u001b[0;32m    662\u001b[0m \u001b[39mwhile\u001b[39;00m \u001b[39mTrue\u001b[39;00m:\n\u001b[1;32m--> 663\u001b[0m     c \u001b[39m=\u001b[39m \u001b[39mself\u001b[39;49m\u001b[39m.\u001b[39;49mread(\u001b[39m1\u001b[39;49m)\n\u001b[0;32m    664\u001b[0m     \u001b[39mif\u001b[39;00m c:\n\u001b[0;32m    665\u001b[0m         line \u001b[39m+\u001b[39m\u001b[39m=\u001b[39m c\n",
      "File \u001b[1;32mc:\\ProgramData\\Anaconda3\\lib\\site-packages\\serial\\serialwin32.py:288\u001b[0m, in \u001b[0;36mSerial.read\u001b[1;34m(self, size)\u001b[0m\n\u001b[0;32m    286\u001b[0m \u001b[39mif\u001b[39;00m \u001b[39mnot\u001b[39;00m read_ok \u001b[39mand\u001b[39;00m win32\u001b[39m.\u001b[39mGetLastError() \u001b[39mnot\u001b[39;00m \u001b[39min\u001b[39;00m (win32\u001b[39m.\u001b[39mERROR_SUCCESS, win32\u001b[39m.\u001b[39mERROR_IO_PENDING):\n\u001b[0;32m    287\u001b[0m     \u001b[39mraise\u001b[39;00m SerialException(\u001b[39m\"\u001b[39m\u001b[39mReadFile failed (\u001b[39m\u001b[39m{!r}\u001b[39;00m\u001b[39m)\u001b[39m\u001b[39m\"\u001b[39m\u001b[39m.\u001b[39mformat(ctypes\u001b[39m.\u001b[39mWinError()))\n\u001b[1;32m--> 288\u001b[0m result_ok \u001b[39m=\u001b[39m win32\u001b[39m.\u001b[39;49mGetOverlappedResult(\n\u001b[0;32m    289\u001b[0m     \u001b[39mself\u001b[39;49m\u001b[39m.\u001b[39;49m_port_handle,\n\u001b[0;32m    290\u001b[0m     ctypes\u001b[39m.\u001b[39;49mbyref(\u001b[39mself\u001b[39;49m\u001b[39m.\u001b[39;49m_overlapped_read),\n\u001b[0;32m    291\u001b[0m     ctypes\u001b[39m.\u001b[39;49mbyref(rc),\n\u001b[0;32m    292\u001b[0m     \u001b[39mTrue\u001b[39;49;00m)\n\u001b[0;32m    293\u001b[0m \u001b[39mif\u001b[39;00m \u001b[39mnot\u001b[39;00m result_ok:\n\u001b[0;32m    294\u001b[0m     \u001b[39mif\u001b[39;00m win32\u001b[39m.\u001b[39mGetLastError() \u001b[39m!=\u001b[39m win32\u001b[39m.\u001b[39mERROR_OPERATION_ABORTED:\n",
      "\u001b[1;31mKeyboardInterrupt\u001b[0m: "
     ]
    }
   ],
   "source": [
    "# # \"\"\"Loop Command\"\"\"\n",
    "res_freq_list = Jig.Jiggler_loop(RUNTIME, TIME_BETWEEN_SAMPLES) "
   ]
  },
  {
   "cell_type": "code",
   "execution_count": null,
   "metadata": {},
   "outputs": [],
   "source": [
    "Jig.stop_instrument()"
   ]
  },
  {
   "cell_type": "code",
   "execution_count": null,
   "metadata": {},
   "outputs": [],
   "source": [
    "x = Jig.res_freq_amp"
   ]
  }
 ],
 "metadata": {
  "kernelspec": {
   "display_name": "base",
   "language": "python",
   "name": "python3"
  },
  "language_info": {
   "codemirror_mode": {
    "name": "ipython",
    "version": 3
   },
   "file_extension": ".py",
   "mimetype": "text/x-python",
   "name": "python",
   "nbconvert_exporter": "python",
   "pygments_lexer": "ipython3",
   "version": "3.9.12"
  },
  "vscode": {
   "interpreter": {
    "hash": "ad2bdc8ecc057115af97d19610ffacc2b4e99fae6737bb82f5d7fb13d2f2c186"
   }
  }
 },
 "nbformat": 4,
 "nbformat_minor": 2
}
